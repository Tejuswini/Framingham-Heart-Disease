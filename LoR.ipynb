{
 "cells": [
  {
   "cell_type": "code",
   "execution_count": 1,
   "metadata": {},
   "outputs": [],
   "source": [
    "import pandas as pd\n",
    "df = pd.read_csv('framingham_heart_disease.csv')"
   ]
  },
  {
   "cell_type": "code",
   "execution_count": 2,
   "metadata": {},
   "outputs": [
    {
     "data": {
      "text/plain": [
       "male                 0\n",
       "age                  0\n",
       "education          105\n",
       "currentSmoker        0\n",
       "cigsPerDay          29\n",
       "BPMeds              53\n",
       "prevalentStroke      0\n",
       "prevalentHyp         0\n",
       "diabetes             0\n",
       "totChol             50\n",
       "sysBP                0\n",
       "diaBP                0\n",
       "BMI                 19\n",
       "heartRate            1\n",
       "glucose            388\n",
       "TenYearCHD           0\n",
       "dtype: int64"
      ]
     },
     "execution_count": 2,
     "metadata": {},
     "output_type": "execute_result"
    }
   ],
   "source": [
    "df.isna().sum()"
   ]
  },
  {
   "cell_type": "code",
   "execution_count": 3,
   "metadata": {},
   "outputs": [
    {
     "data": {
      "text/html": [
       "<div>\n",
       "<style scoped>\n",
       "    .dataframe tbody tr th:only-of-type {\n",
       "        vertical-align: middle;\n",
       "    }\n",
       "\n",
       "    .dataframe tbody tr th {\n",
       "        vertical-align: top;\n",
       "    }\n",
       "\n",
       "    .dataframe thead th {\n",
       "        text-align: right;\n",
       "    }\n",
       "</style>\n",
       "<table border=\"1\" class=\"dataframe\">\n",
       "  <thead>\n",
       "    <tr style=\"text-align: right;\">\n",
       "      <th></th>\n",
       "      <th>male</th>\n",
       "      <th>age</th>\n",
       "      <th>education</th>\n",
       "      <th>currentSmoker</th>\n",
       "      <th>cigsPerDay</th>\n",
       "      <th>BPMeds</th>\n",
       "      <th>prevalentStroke</th>\n",
       "      <th>prevalentHyp</th>\n",
       "      <th>diabetes</th>\n",
       "      <th>totChol</th>\n",
       "      <th>sysBP</th>\n",
       "      <th>diaBP</th>\n",
       "      <th>BMI</th>\n",
       "      <th>heartRate</th>\n",
       "      <th>glucose</th>\n",
       "      <th>TenYearCHD</th>\n",
       "    </tr>\n",
       "  </thead>\n",
       "  <tbody>\n",
       "    <tr>\n",
       "      <th>0</th>\n",
       "      <td>1</td>\n",
       "      <td>39</td>\n",
       "      <td>4.0</td>\n",
       "      <td>0</td>\n",
       "      <td>0.0</td>\n",
       "      <td>0.0</td>\n",
       "      <td>0</td>\n",
       "      <td>0</td>\n",
       "      <td>0</td>\n",
       "      <td>195.0</td>\n",
       "      <td>106.0</td>\n",
       "      <td>70.0</td>\n",
       "      <td>26.97</td>\n",
       "      <td>80.0</td>\n",
       "      <td>77.0</td>\n",
       "      <td>0</td>\n",
       "    </tr>\n",
       "    <tr>\n",
       "      <th>1</th>\n",
       "      <td>0</td>\n",
       "      <td>46</td>\n",
       "      <td>2.0</td>\n",
       "      <td>0</td>\n",
       "      <td>0.0</td>\n",
       "      <td>0.0</td>\n",
       "      <td>0</td>\n",
       "      <td>0</td>\n",
       "      <td>0</td>\n",
       "      <td>250.0</td>\n",
       "      <td>121.0</td>\n",
       "      <td>81.0</td>\n",
       "      <td>28.73</td>\n",
       "      <td>95.0</td>\n",
       "      <td>76.0</td>\n",
       "      <td>0</td>\n",
       "    </tr>\n",
       "    <tr>\n",
       "      <th>2</th>\n",
       "      <td>1</td>\n",
       "      <td>48</td>\n",
       "      <td>1.0</td>\n",
       "      <td>1</td>\n",
       "      <td>20.0</td>\n",
       "      <td>0.0</td>\n",
       "      <td>0</td>\n",
       "      <td>0</td>\n",
       "      <td>0</td>\n",
       "      <td>245.0</td>\n",
       "      <td>127.5</td>\n",
       "      <td>80.0</td>\n",
       "      <td>25.34</td>\n",
       "      <td>75.0</td>\n",
       "      <td>70.0</td>\n",
       "      <td>0</td>\n",
       "    </tr>\n",
       "    <tr>\n",
       "      <th>3</th>\n",
       "      <td>0</td>\n",
       "      <td>61</td>\n",
       "      <td>3.0</td>\n",
       "      <td>1</td>\n",
       "      <td>30.0</td>\n",
       "      <td>0.0</td>\n",
       "      <td>0</td>\n",
       "      <td>1</td>\n",
       "      <td>0</td>\n",
       "      <td>225.0</td>\n",
       "      <td>150.0</td>\n",
       "      <td>95.0</td>\n",
       "      <td>28.58</td>\n",
       "      <td>65.0</td>\n",
       "      <td>103.0</td>\n",
       "      <td>1</td>\n",
       "    </tr>\n",
       "    <tr>\n",
       "      <th>4</th>\n",
       "      <td>0</td>\n",
       "      <td>46</td>\n",
       "      <td>3.0</td>\n",
       "      <td>1</td>\n",
       "      <td>23.0</td>\n",
       "      <td>0.0</td>\n",
       "      <td>0</td>\n",
       "      <td>0</td>\n",
       "      <td>0</td>\n",
       "      <td>285.0</td>\n",
       "      <td>130.0</td>\n",
       "      <td>84.0</td>\n",
       "      <td>23.10</td>\n",
       "      <td>85.0</td>\n",
       "      <td>85.0</td>\n",
       "      <td>0</td>\n",
       "    </tr>\n",
       "    <tr>\n",
       "      <th>...</th>\n",
       "      <td>...</td>\n",
       "      <td>...</td>\n",
       "      <td>...</td>\n",
       "      <td>...</td>\n",
       "      <td>...</td>\n",
       "      <td>...</td>\n",
       "      <td>...</td>\n",
       "      <td>...</td>\n",
       "      <td>...</td>\n",
       "      <td>...</td>\n",
       "      <td>...</td>\n",
       "      <td>...</td>\n",
       "      <td>...</td>\n",
       "      <td>...</td>\n",
       "      <td>...</td>\n",
       "      <td>...</td>\n",
       "    </tr>\n",
       "    <tr>\n",
       "      <th>4231</th>\n",
       "      <td>1</td>\n",
       "      <td>58</td>\n",
       "      <td>3.0</td>\n",
       "      <td>0</td>\n",
       "      <td>0.0</td>\n",
       "      <td>0.0</td>\n",
       "      <td>0</td>\n",
       "      <td>1</td>\n",
       "      <td>0</td>\n",
       "      <td>187.0</td>\n",
       "      <td>141.0</td>\n",
       "      <td>81.0</td>\n",
       "      <td>24.96</td>\n",
       "      <td>80.0</td>\n",
       "      <td>81.0</td>\n",
       "      <td>0</td>\n",
       "    </tr>\n",
       "    <tr>\n",
       "      <th>4232</th>\n",
       "      <td>1</td>\n",
       "      <td>68</td>\n",
       "      <td>1.0</td>\n",
       "      <td>0</td>\n",
       "      <td>0.0</td>\n",
       "      <td>0.0</td>\n",
       "      <td>0</td>\n",
       "      <td>1</td>\n",
       "      <td>0</td>\n",
       "      <td>176.0</td>\n",
       "      <td>168.0</td>\n",
       "      <td>97.0</td>\n",
       "      <td>23.14</td>\n",
       "      <td>60.0</td>\n",
       "      <td>79.0</td>\n",
       "      <td>1</td>\n",
       "    </tr>\n",
       "    <tr>\n",
       "      <th>4233</th>\n",
       "      <td>1</td>\n",
       "      <td>50</td>\n",
       "      <td>1.0</td>\n",
       "      <td>1</td>\n",
       "      <td>1.0</td>\n",
       "      <td>0.0</td>\n",
       "      <td>0</td>\n",
       "      <td>1</td>\n",
       "      <td>0</td>\n",
       "      <td>313.0</td>\n",
       "      <td>179.0</td>\n",
       "      <td>92.0</td>\n",
       "      <td>25.97</td>\n",
       "      <td>66.0</td>\n",
       "      <td>86.0</td>\n",
       "      <td>1</td>\n",
       "    </tr>\n",
       "    <tr>\n",
       "      <th>4234</th>\n",
       "      <td>1</td>\n",
       "      <td>51</td>\n",
       "      <td>3.0</td>\n",
       "      <td>1</td>\n",
       "      <td>43.0</td>\n",
       "      <td>0.0</td>\n",
       "      <td>0</td>\n",
       "      <td>0</td>\n",
       "      <td>0</td>\n",
       "      <td>207.0</td>\n",
       "      <td>126.5</td>\n",
       "      <td>80.0</td>\n",
       "      <td>19.71</td>\n",
       "      <td>65.0</td>\n",
       "      <td>68.0</td>\n",
       "      <td>0</td>\n",
       "    </tr>\n",
       "    <tr>\n",
       "      <th>4237</th>\n",
       "      <td>0</td>\n",
       "      <td>52</td>\n",
       "      <td>2.0</td>\n",
       "      <td>0</td>\n",
       "      <td>0.0</td>\n",
       "      <td>0.0</td>\n",
       "      <td>0</td>\n",
       "      <td>0</td>\n",
       "      <td>0</td>\n",
       "      <td>269.0</td>\n",
       "      <td>133.5</td>\n",
       "      <td>83.0</td>\n",
       "      <td>21.47</td>\n",
       "      <td>80.0</td>\n",
       "      <td>107.0</td>\n",
       "      <td>0</td>\n",
       "    </tr>\n",
       "  </tbody>\n",
       "</table>\n",
       "<p>3656 rows × 16 columns</p>\n",
       "</div>"
      ],
      "text/plain": [
       "      male  age  education  currentSmoker  cigsPerDay  BPMeds   \n",
       "0        1   39        4.0              0         0.0     0.0  \\\n",
       "1        0   46        2.0              0         0.0     0.0   \n",
       "2        1   48        1.0              1        20.0     0.0   \n",
       "3        0   61        3.0              1        30.0     0.0   \n",
       "4        0   46        3.0              1        23.0     0.0   \n",
       "...    ...  ...        ...            ...         ...     ...   \n",
       "4231     1   58        3.0              0         0.0     0.0   \n",
       "4232     1   68        1.0              0         0.0     0.0   \n",
       "4233     1   50        1.0              1         1.0     0.0   \n",
       "4234     1   51        3.0              1        43.0     0.0   \n",
       "4237     0   52        2.0              0         0.0     0.0   \n",
       "\n",
       "      prevalentStroke  prevalentHyp  diabetes  totChol  sysBP  diaBP    BMI   \n",
       "0                   0             0         0    195.0  106.0   70.0  26.97  \\\n",
       "1                   0             0         0    250.0  121.0   81.0  28.73   \n",
       "2                   0             0         0    245.0  127.5   80.0  25.34   \n",
       "3                   0             1         0    225.0  150.0   95.0  28.58   \n",
       "4                   0             0         0    285.0  130.0   84.0  23.10   \n",
       "...               ...           ...       ...      ...    ...    ...    ...   \n",
       "4231                0             1         0    187.0  141.0   81.0  24.96   \n",
       "4232                0             1         0    176.0  168.0   97.0  23.14   \n",
       "4233                0             1         0    313.0  179.0   92.0  25.97   \n",
       "4234                0             0         0    207.0  126.5   80.0  19.71   \n",
       "4237                0             0         0    269.0  133.5   83.0  21.47   \n",
       "\n",
       "      heartRate  glucose  TenYearCHD  \n",
       "0          80.0     77.0           0  \n",
       "1          95.0     76.0           0  \n",
       "2          75.0     70.0           0  \n",
       "3          65.0    103.0           1  \n",
       "4          85.0     85.0           0  \n",
       "...         ...      ...         ...  \n",
       "4231       80.0     81.0           0  \n",
       "4232       60.0     79.0           1  \n",
       "4233       66.0     86.0           1  \n",
       "4234       65.0     68.0           0  \n",
       "4237       80.0    107.0           0  \n",
       "\n",
       "[3656 rows x 16 columns]"
      ]
     },
     "execution_count": 3,
     "metadata": {},
     "output_type": "execute_result"
    }
   ],
   "source": [
    "df = df.dropna()\n",
    "df"
   ]
  },
  {
   "cell_type": "code",
   "execution_count": 4,
   "metadata": {},
   "outputs": [
    {
     "data": {
      "text/plain": [
       "(3656, 16)"
      ]
     },
     "execution_count": 4,
     "metadata": {},
     "output_type": "execute_result"
    }
   ],
   "source": [
    "df.shape"
   ]
  },
  {
   "cell_type": "code",
   "execution_count": 5,
   "metadata": {},
   "outputs": [],
   "source": [
    "import numpy as np \n",
    "import math \n",
    "import pandas as pd"
   ]
  },
  {
   "cell_type": "code",
   "execution_count": 6,
   "metadata": {},
   "outputs": [
    {
     "name": "stdout",
     "output_type": "stream",
     "text": [
      "0     80.0\n",
      "1     95.0\n",
      "2     75.0\n",
      "3     65.0\n",
      "4     85.0\n",
      "5     77.0\n",
      "6     60.0\n",
      "7     79.0\n",
      "8     76.0\n",
      "9     93.0\n",
      "10    75.0\n",
      "11    72.0\n",
      "12    98.0\n",
      "13    65.0\n",
      "15    95.0\n",
      "16    64.0\n",
      "17    80.0\n",
      "18    75.0\n",
      "19    85.0\n",
      "20    72.0\n",
      "22    70.0\n",
      "23    71.0\n",
      "24    75.0\n",
      "25    62.0\n",
      "27    73.0\n",
      "28    85.0\n",
      "29    72.0\n",
      "30    60.0\n",
      "31    75.0\n",
      "32    90.0\n",
      "Name: heartRate, dtype: float64\n"
     ]
    }
   ],
   "source": [
    "data1 = df['heartRate'].head(30)\n",
    "print(data1)"
   ]
  },
  {
   "cell_type": "code",
   "execution_count": 7,
   "metadata": {},
   "outputs": [
    {
     "name": "stdout",
     "output_type": "stream",
     "text": [
      "[60. 60. 62. 64. 65. 65. 70. 71. 72. 72. 72. 73. 75. 75. 75. 75. 75. 76.\n",
      " 77. 79. 80. 80. 85. 85. 85. 90. 93. 95. 95. 98.]\n"
     ]
    }
   ],
   "source": [
    "data2=np.sort(data1)\n",
    "print(data2)"
   ]
  },
  {
   "cell_type": "code",
   "execution_count": 8,
   "metadata": {},
   "outputs": [
    {
     "name": "stdout",
     "output_type": "stream",
     "text": [
      "bin1 =  [60. 60. 62. 64. 65. 65. 70. 71. 72. 72.]\n",
      "bin2 =  [72. 73. 75. 75. 75. 75. 75. 76. 77. 79.]\n",
      "bin3 =  [80. 80. 85. 85. 85. 90. 93. 95. 95. 98.]\n"
     ]
    }
   ],
   "source": [
    "# 1. Binning with means and/or mode, boundary\n",
    "bin1 = slice(0,10)\n",
    "bin2 = slice(10,20)\n",
    "bin3 = slice(20,30)\n",
    "print(\"bin1 = \",data2[bin1])\n",
    "print(\"bin2 = \",data2[bin2])\n",
    "print(\"bin3 = \",data2[bin3])"
   ]
  },
  {
   "cell_type": "code",
   "execution_count": 9,
   "metadata": {},
   "outputs": [],
   "source": [
    "b1=np.zeros((3,10))\n",
    "b2=np.zeros((3,10))\n",
    "b3=np.zeros((3,10))"
   ]
  },
  {
   "cell_type": "code",
   "execution_count": 10,
   "metadata": {},
   "outputs": [
    {
     "name": "stdout",
     "output_type": "stream",
     "text": [
      "-----------------Mean of bins :----------------- \n",
      " [[66.1 66.1 66.1 66.1 66.1 66.1 66.1 66.1 66.1 66.1]\n",
      " [75.2 75.2 75.2 75.2 75.2 75.2 75.2 75.2 75.2 75.2]\n",
      " [88.6 88.6 88.6 88.6 88.6 88.6 88.6 88.6 88.6 88.6]]\n"
     ]
    }
   ],
   "source": [
    "for i in range (0,30,10): \n",
    "  k=int(i/10)\n",
    "  mean=(data2[i] + data2[i+1] + data2[i+2] + data2[i+3] + data2[i+4] + data2[i+5] + data2[i+6] + data2[i+7] + data2[i+8] + data2[i+9])/10\n",
    "  for j in range(10): \n",
    "    b1[k,j]=mean \n",
    "print(\"-----------------Mean of bins :----------------- \\n\",b1)"
   ]
  },
  {
   "cell_type": "code",
   "execution_count": 11,
   "metadata": {},
   "outputs": [
    {
     "name": "stdout",
     "output_type": "stream",
     "text": [
      "-----------------Median Bin :----------------- \n",
      " [[60. 60. 60. 60. 60. 60. 60. 60. 60. 60.]\n",
      " [73. 73. 73. 73. 73. 73. 73. 73. 73. 73.]\n",
      " [80. 80. 80. 80. 80. 80. 80. 80. 80. 80.]]\n"
     ]
    }
   ],
   "source": [
    "for i in range (0,30,10): \n",
    "  k=int(i/10) \n",
    "  for j in range (10): \n",
    "    b2[k,j] = data2[i+1] \n",
    "print(\"-----------------Median Bin :----------------- \\n\",b2)"
   ]
  },
  {
   "cell_type": "code",
   "execution_count": 12,
   "metadata": {},
   "outputs": [
    {
     "name": "stdout",
     "output_type": "stream",
     "text": [
      "-----------------Boundary Bin:----------------- \n",
      " [[60. 60. 60. 60. 60. 60. 72. 72. 72. 72.]\n",
      " [72. 72. 72. 72. 72. 72. 72. 79. 79. 79.]\n",
      " [80. 80. 80. 80. 80. 98. 98. 98. 98. 98.]]\n"
     ]
    }
   ],
   "source": [
    "for i in range (0,30,10): \n",
    "  k=int(i/10) \n",
    "  for j in range (10): \n",
    "    if (data2[i+j]-data2[i]) < (data2[i+9]-data2[i+j]): \n",
    "      b3[k,j]=data2[i] \n",
    "    else: \n",
    "      b3[k,j]=data2[i+9]   \n",
    "print(\"-----------------Boundary Bin:----------------- \\n\",b3)"
   ]
  },
  {
   "cell_type": "code",
   "execution_count": 13,
   "metadata": {},
   "outputs": [
    {
     "data": {
      "text/plain": [
       "0    39\n",
       "1    46\n",
       "2    48\n",
       "3    61\n",
       "4    46\n",
       "5    43\n",
       "6    63\n",
       "7    45\n",
       "8    52\n",
       "9    43\n",
       "Name: age, dtype: int64"
      ]
     },
     "execution_count": 13,
     "metadata": {},
     "output_type": "execute_result"
    }
   ],
   "source": [
    "a = df['age'].head(10)\n",
    "a"
   ]
  },
  {
   "cell_type": "code",
   "execution_count": 14,
   "metadata": {},
   "outputs": [
    {
     "data": {
      "text/plain": [
       "0    195.0\n",
       "1    250.0\n",
       "2    245.0\n",
       "3    225.0\n",
       "4    285.0\n",
       "5    228.0\n",
       "6    205.0\n",
       "7    313.0\n",
       "8    260.0\n",
       "9    225.0\n",
       "Name: totChol, dtype: float64"
      ]
     },
     "execution_count": 14,
     "metadata": {},
     "output_type": "execute_result"
    }
   ],
   "source": [
    "b = df['totChol'].head(10)\n",
    "b"
   ]
  },
  {
   "attachments": {},
   "cell_type": "markdown",
   "metadata": {},
   "source": [
    "**covariance(cov)\n",
    "<br>Cov(x,y) = [ Σ(Xi - x)(Yi - y) ] / n - 1\n",
    "<br>x and y are means**"
   ]
  },
  {
   "cell_type": "code",
   "execution_count": 15,
   "metadata": {},
   "outputs": [
    {
     "name": "stdout",
     "output_type": "stream",
     "text": [
      "Mean of a: 48.6\n",
      "Mean of b: 243.1\n",
      "numerator: -447.6\n",
      "denominator: 9\n",
      "Covariance: -49.733333333333334\n"
     ]
    }
   ],
   "source": [
    "# Covariance\n",
    "\n",
    "# Finding the mean of the series a and b\n",
    "mean_a = sum(a)/float(len(a))\n",
    "mean_b = sum(b)/float(len(b))\n",
    "print(\"Mean of a:\", mean_a)\n",
    "print(\"Mean of b:\", mean_b)\n",
    "\n",
    "# Subtracting mean from the individual elements\n",
    "sub_a = [i - mean_a for i in a]\n",
    "sub_b = [i - mean_b for i in b]\n",
    "\n",
    "numerator = sum([sub_a[i]*sub_b[i] for i in range(len(sub_a))])\n",
    "denominator = len(a)-1\n",
    "print(\"numerator:\",numerator)\n",
    "print(\"denominator:\",denominator)\n",
    "\n",
    "cov = numerator/denominator\n",
    "print(\"Covariance:\", cov)"
   ]
  },
  {
   "attachments": {},
   "cell_type": "markdown",
   "metadata": {},
   "source": [
    "**correlation(r)\n",
    "<br>r(x,y) = cov(x,y)/SxSy\n",
    "<br>Sx and Sy are standard deviation**"
   ]
  },
  {
   "cell_type": "code",
   "execution_count": 16,
   "metadata": {},
   "outputs": [],
   "source": [
    "import statistics"
   ]
  },
  {
   "cell_type": "code",
   "execution_count": 17,
   "metadata": {},
   "outputs": [
    {
     "name": "stdout",
     "output_type": "stream",
     "text": [
      "7.848566748139434\n"
     ]
    }
   ],
   "source": [
    "print(statistics.stdev(a))"
   ]
  },
  {
   "cell_type": "code",
   "execution_count": 18,
   "metadata": {},
   "outputs": [
    {
     "name": "stdout",
     "output_type": "stream",
     "text": [
      "35.942701314422344\n"
     ]
    }
   ],
   "source": [
    "print(statistics.stdev(b))"
   ]
  },
  {
   "cell_type": "code",
   "execution_count": 19,
   "metadata": {},
   "outputs": [
    {
     "name": "stdout",
     "output_type": "stream",
     "text": [
      "Covariance: -49.733333333333334\n",
      "standard deviation of a: 7.848566748139433\n",
      "standard deviation of b: 35.94270131442235\n",
      "Correlation: -0.17629763990494834\n"
     ]
    }
   ],
   "source": [
    "# Correlation\n",
    "\n",
    "# Finding the mean of the series a and b\n",
    "mean_a = sum(a)/float(len(a))\n",
    "mean_b = sum(b)/float(len(b))\n",
    "\n",
    "# Subtracting mean from the individual elements\n",
    "sub_a = [i-mean_a for i in a]\n",
    "sub_b = [i-mean_b for i in b]\n",
    "# covariance for a and b\n",
    "numerator_Covariance = (sum([sub_a[i]*sub_b[i] for i in range(len(sub_a))]))/(len(a)-1)\n",
    "print(\"Covariance:\",numerator_Covariance)\n",
    "\n",
    "# Standard Deviation of a and b\n",
    "# squaring by 0.5 to find the square root\n",
    "std_deviation_a = ((sum([sub_a[i]**2.0 for i in range(len(sub_a))]))/float(len(a)-1))**0.5\n",
    "std_deviation_b = ((sum([sub_b[i]**2.0 for i in range(len(sub_b))]))/float(len(b)-1))**0.5\n",
    "print(\"standard deviation of a:\", std_deviation_a)\n",
    "print(\"standard deviation of b:\", std_deviation_b)\n",
    "denominator = (std_deviation_a * std_deviation_b)\n",
    "\n",
    "cor = numerator_Covariance/denominator\n",
    "print(\"Correlation:\", cor)"
   ]
  },
  {
   "attachments": {},
   "cell_type": "markdown",
   "metadata": {},
   "source": [
    "**Plot the correlation, to show whether two variables are positively correlated, negatively correlated or no relation between them.**"
   ]
  },
  {
   "cell_type": "code",
   "execution_count": 20,
   "metadata": {},
   "outputs": [],
   "source": [
    "import sklearn\n",
    "import numpy as np\n",
    "import matplotlib.pyplot as plt\n",
    "import pandas as pd"
   ]
  },
  {
   "cell_type": "code",
   "execution_count": 21,
   "metadata": {},
   "outputs": [
    {
     "data": {
      "text/plain": [
       "0.2677636840105785"
      ]
     },
     "execution_count": 21,
     "metadata": {},
     "output_type": "execute_result"
    }
   ],
   "source": [
    "y = df['totChol']\n",
    "x = df['age']\n",
    "correlation = y.corr(x)\n",
    "correlation"
   ]
  },
  {
   "cell_type": "code",
   "execution_count": 22,
   "metadata": {},
   "outputs": [
    {
     "data": {
      "text/plain": [
       "[<matplotlib.lines.Line2D at 0x1c9c458b1f0>]"
      ]
     },
     "execution_count": 22,
     "metadata": {},
     "output_type": "execute_result"
    },
    {
     "data": {
      "image/png": "[encoded data removed]",
      "text/plain": [
       "<Figure size 640x480 with 1 Axes>"
      ]
     },
     "metadata": {},
     "output_type": "display_data"
    }
   ],
   "source": [
    "# plotting the data\n",
    "plt.scatter(x, y)\n",
    " \n",
    "# This will fit the best line into the graph\n",
    "plt.plot(np.unique(x), np.poly1d(np.polyfit(x, y, 1))\n",
    "         (np.unique(x)), color='red')"
   ]
  }
 ],
 "metadata": {
  "kernelspec": {
   "display_name": "base",
   "language": "python",
   "name": "python3"
  },
  "language_info": {
   "codemirror_mode": {
    "name": "ipython",
    "version": 3
   },
   "file_extension": ".py",
   "mimetype": "text/x-python",
   "name": "python",
   "nbconvert_exporter": "python",
   "pygments_lexer": "ipython3",
   "version": "3.10.9"
  },
  "orig_nbformat": 4
 },
 "nbformat": 4,
 "nbformat_minor": 2
}
